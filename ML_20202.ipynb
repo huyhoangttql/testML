{
  "nbformat": 4,
  "nbformat_minor": 0,
  "metadata": {
    "colab": {
      "name": "ML_20202",
      "provenance": [],
      "collapsed_sections": [],
      "include_colab_link": true
    },
    "kernelspec": {
      "name": "python3",
      "display_name": "Python 3"
    },
    "language_info": {
      "name": "python"
    },
    "accelerator": "GPU"
  },
  "cells": [
    {
      "cell_type": "markdown",
      "metadata": {
        "id": "view-in-github",
        "colab_type": "text"
      },
      "source": [
        "<a href=\"https://colab.research.google.com/github/huyhoangttql/testML/blob/main/ML_20202.ipynb\" target=\"_parent\"><img src=\"https://colab.research.google.com/assets/colab-badge.svg\" alt=\"Open In Colab\"/></a>"
      ]
    },
    {
      "cell_type": "code",
      "metadata": {
        "colab": {
          "base_uri": "https://localhost:8080/"
        },
        "id": "N-TfwHIfgXbo",
        "outputId": "6000ada1-3352-420d-998e-dfb81748478d"
      },
      "source": [
        "from google.colab import drive\n",
        "drive.mount(\"/content/drive\")"
      ],
      "execution_count": 1,
      "outputs": [
        {
          "output_type": "stream",
          "text": [
            "Mounted at /content/drive\n"
          ],
          "name": "stdout"
        }
      ]
    },
    {
      "cell_type": "code",
      "metadata": {
        "id": "-R2E2f7P-4Md",
        "colab": {
          "base_uri": "https://localhost:8080/"
        },
        "outputId": "28db276b-a90e-46f5-d78a-28aa7c00198b"
      },
      "source": [
        "import os\n",
        "import numpy as np\n",
        "import pandas as pd\n",
        "import seaborn as sns\n",
        "import re\n",
        "from sklearn.model_selection import train_test_split\n",
        "from keras.preprocessing.text import Tokenizer\n",
        "from keras.preprocessing.sequence import pad_sequences\n",
        "from keras.models import Sequential\n",
        "from keras.layers.embeddings import Embedding\n",
        "from keras.layers import Flatten\n",
        "from keras.layers.core import Activation, Dropout, Dense\n",
        "from keras.layers import GlobalMaxPooling1D\n",
        "from keras.layers import Conv1D\n",
        "from keras.layers import LSTM\n",
        "from keras import *\n",
        "df = pd.read_csv('/content/drive/MyDrive/Dataset/IMDB Dataset.csv')\n",
        "#df['split'] = np.random.randn(df.shape[0],1)   # them cot split co gia tri theo pp chuan, df.shape[0] = 50000\n",
        "# print (df)\n",
        "# sns.countplot(x='sentiment', data=df)\n",
        "\n",
        "'''\n",
        "msk = np.random.rand(len(df)) <= 0.7   # msk = true neu so ngau nhien sinh ra <= 0.7\n",
        "print(msk)\n",
        "train = df[msk]\n",
        "test = df[~msk]\n",
        "print(train.shape)\n",
        "print(len(train['sentiment']))\n",
        "print(test)\n",
        "'''\n",
        "print(len(df['review'][0]))\n",
        "\n"
      ],
      "execution_count": 2,
      "outputs": [
        {
          "output_type": "stream",
          "text": [
            "1761\n"
          ],
          "name": "stdout"
        }
      ]
    },
    {
      "cell_type": "code",
      "metadata": {
        "colab": {
          "base_uri": "https://localhost:8080/"
        },
        "id": "NYMaTzq6xbdy",
        "outputId": "7571c93a-723d-45c6-dcd1-08f06e58882e"
      },
      "source": [
        "#Preprocessing\n",
        "def preprocess_text(sen):\n",
        "  # Xoa the html\n",
        "  sentence = remove_tags(sen)\n",
        "\n",
        "  # Xoa dau cau va so\n",
        "  sentence = re.sub('[^a-zA-Z]', ' ', sentence)\n",
        " \n",
        "  # Xoa ki tu don\n",
        "  sentence = re.sub(r\"\\s+[a-zA-Z]\\s+\", ' ', sentence)\n",
        "\n",
        "  # Xoa nhieu space\n",
        "  sentence = re.sub(r'\\s+', ' ', sentence)\n",
        "\n",
        "  return sentence\n",
        "\n",
        "tag_re = re.compile(r'<[^>]+>')\n",
        "def remove_tags(text):\n",
        "  return tag_re.sub('', text) \n",
        "\n",
        "x = []  # x[i] chua 1 cmt da duoc tien xu ly\n",
        "sentences = list(df['review'])\n",
        "for sen in sentences:\n",
        "  x.append(preprocess_text(sen))\n",
        "#print (x[3])\n",
        "\n",
        "# Chuyen doi label: positive->1, negative->0\n",
        "y = df['sentiment']\n",
        "y = np.array(list(map(lambda x: 1 if x==\"positive\" else 0, y)))   # y[i] chua label duoc chuyen dang so 0,1\n",
        "\n",
        "# Chia dataset thanh training set and testing set\n",
        "# x_train,x_test,y_train,y_test = train_test_split(x, y, test_size = 0.3, random_state = 42)\n",
        "# print(x_train[1])\n",
        "# print(y_train[1])\n",
        "\n",
        "print(type(x))\n",
        "print(type(y))\n",
        "print(len(x[0]))\n",
        "for sentence in x:\n",
        "  if \"this film was just brilliant casting location scenery\" in sentence:\n",
        "    print(x.index(sentence))\n",
        "print(x[4788])\n",
        "print(y[4788])"
      ],
      "execution_count": 3,
      "outputs": [
        {
          "output_type": "stream",
          "text": [
            "<class 'list'>\n",
            "<class 'numpy.ndarray'>\n",
            "1653\n",
            "4788\n",
            "this film was just brilliant casting location scenery story direction everyone really suited the part they played and you could just imagine being there Robert Redford is an amazing actor and now the same being director Norman father came from the same Scottish island as myself so loved the fact there was real connection with this film the witty remarks throughout the film were great it was just brilliant so much that bought the film as soon as it was released for retail and would recommend it to everyone to watch and the fly fishing was amazing really cried at the end it was so sad and you know what they say if you cry at film it must have been good and this definitely was also congratulations to the two little boy that played the part of Norman and Paul they were just brilliant children are often left out of the praising list think because the stars that play them all grown up are such big profile for the whole film but these children are amazing and should be praised for what they have done don you think the whole story was so lovely because it was true and was someone life after all that was shared with us all \n",
            "1\n"
          ],
          "name": "stdout"
        }
      ]
    },
    {
      "cell_type": "code",
      "metadata": {
        "colab": {
          "base_uri": "https://localhost:8080/"
        },
        "id": "fGKDucBuI17d",
        "outputId": "de013dc8-bc10-4e98-aa93-a3650ad0937d"
      },
      "source": [
        "# Prepareing embedding layer\n",
        "# Su dung Tokennizer de tao tu dien word-to-index (moi tu duoc bieu dien la 1 so)\n",
        "tokenizer = Tokenizer(num_words=5000)\n",
        "tokenizer.fit_on_texts(x)   # cap nhat tu dien dua tren tap x_train\n",
        "# tokenizer.fit_on_texts(y)\n",
        "\n",
        "x = tokenizer.texts_to_sequences(x)   # chuyen text thanh chuoi so nguyen\n",
        "# y = tokenizer.texts_to_sequences(x_test)\n",
        "\n",
        "vocab_size = len(tokenizer.word_index) + 1\n",
        "maxlen =100  # Kich thuoc moi danh sach\n",
        "\n",
        "\n",
        "# x = np.asarray(x)\n",
        "print(x[4788])\n",
        "# data = np.concatenate((x_train, testing_data), axis=0)"
      ],
      "execution_count": 4,
      "outputs": [
        {
          "output_type": "stream",
          "text": [
            "[8, 16, 10, 37, 502, 1027, 1435, 1279, 59, 454, 290, 60, 4016, 1, 171, 28, 249, 2, 17, 92, 37, 801, 105, 35, 596, 5, 30, 483, 275, 2, 144, 1, 166, 105, 151, 3184, 323, 377, 33, 1, 166, 4808, 901, 11, 525, 32, 427, 1, 190, 35, 10, 142, 1868, 14, 8, 16, 1, 1873, 466, 1, 16, 67, 76, 6, 10, 37, 502, 32, 69, 9, 1200, 1, 16, 11, 518, 11, 6, 10, 601, 13, 2, 56, 370, 6, 4, 290, 4, 99, 2, 1, 1991, 10, 483, 60, 3533, 27, 1, 125, 6, 10, 32, 608, 2, 17, 115, 43, 28, 130, 41, 17, 1400, 27, 16, 6, 200, 23, 72, 45, 2, 8, 402, 10, 78, 4, 1, 102, 116, 394, 9, 249, 1, 171, 3, 3184, 2, 803, 28, 67, 37, 502, 404, 21, 400, 308, 39, 3, 1, 987, 98, 80, 1, 398, 9, 282, 88, 26, 2022, 51, 21, 137, 186, 13, 1, 218, 16, 15, 131, 404, 21, 483, 2, 139, 25, 13, 43, 28, 23, 217, 82, 17, 98, 1, 218, 59, 10, 32, 1287, 80, 6, 10, 285, 2, 10, 278, 109, 96, 26, 9, 10, 14, 176, 26]\n"
          ],
          "name": "stdout"
        }
      ]
    },
    {
      "cell_type": "code",
      "metadata": {
        "colab": {
          "base_uri": "https://localhost:8080/"
        },
        "id": "nDRw05u7rRkk",
        "outputId": "c774208a-45de-47d8-c423-115793e69e45"
      },
      "source": [
        "def vectorize(sequences, dimension = 10000):\n",
        "  results = np.zeros((len(sequences), dimension))\n",
        "  for i, sequence in enumerate(sequences):\n",
        "    results[i, sequence] = 1\n",
        "  return results\n",
        " \n",
        "# data = vectorize(x)\n",
        "print(type(x))\n",
        "y=np.asarray(y).astype(np.float32)"
      ],
      "execution_count": 5,
      "outputs": [
        {
          "output_type": "stream",
          "text": [
            "<class 'list'>\n"
          ],
          "name": "stdout"
        }
      ]
    },
    {
      "cell_type": "code",
      "metadata": {
        "colab": {
          "base_uri": "https://localhost:8080/"
        },
        "id": "2Z56Yee0tPMY",
        "outputId": "a6a22182-7bb0-4b5f-df37-2edd681da79e"
      },
      "source": [
        "test_x = x[:10000]\n",
        "test_y = y[:10000]\n",
        "train_x = x[10000:]\n",
        "train_y = y[10000:]\n",
        "print(type(test_y))\n",
        "print(type(test_x))"
      ],
      "execution_count": 6,
      "outputs": [
        {
          "output_type": "stream",
          "text": [
            "<class 'numpy.ndarray'>\n",
            "<class 'list'>\n"
          ],
          "name": "stdout"
        }
      ]
    },
    {
      "cell_type": "code",
      "metadata": {
        "colab": {
          "base_uri": "https://localhost:8080/"
        },
        "id": "cpYgrkjatYZT",
        "outputId": "c3d921d4-534e-4b2d-8dd8-1a6726b8cd32"
      },
      "source": [
        "model = Sequential()\n",
        "# Input - Layer\n",
        "model.add(layers.Dense(50, activation = \"relu\", input_shape=(10000, )))\n",
        "# Hidden - Layers\n",
        "model.add(layers.Dropout(0.3, noise_shape=None, seed=None))\n",
        "model.add(layers.Dense(50, activation = \"relu\"))\n",
        "model.add(layers.Dropout(0.2, noise_shape=None, seed=None))\n",
        "model.add(layers.Dense(50, activation = \"relu\"))\n",
        "# Output- Layer\n",
        "model.add(layers.Dense(1, activation = \"sigmoid\"))\n",
        "model.summary()"
      ],
      "execution_count": 7,
      "outputs": [
        {
          "output_type": "stream",
          "text": [
            "Model: \"sequential\"\n",
            "_________________________________________________________________\n",
            "Layer (type)                 Output Shape              Param #   \n",
            "=================================================================\n",
            "dense (Dense)                (None, 50)                500050    \n",
            "_________________________________________________________________\n",
            "dropout (Dropout)            (None, 50)                0         \n",
            "_________________________________________________________________\n",
            "dense_1 (Dense)              (None, 50)                2550      \n",
            "_________________________________________________________________\n",
            "dropout_1 (Dropout)          (None, 50)                0         \n",
            "_________________________________________________________________\n",
            "dense_2 (Dense)              (None, 50)                2550      \n",
            "_________________________________________________________________\n",
            "dense_3 (Dense)              (None, 1)                 51        \n",
            "=================================================================\n",
            "Total params: 505,201\n",
            "Trainable params: 505,201\n",
            "Non-trainable params: 0\n",
            "_________________________________________________________________\n"
          ],
          "name": "stdout"
        }
      ]
    },
    {
      "cell_type": "code",
      "metadata": {
        "id": "rCwYK_ext47x"
      },
      "source": [
        "model.compile(\n",
        " optimizer = \"adam\",\n",
        " loss = \"binary_crossentropy\",\n",
        " metrics = [\"accuracy\"]\n",
        ")"
      ],
      "execution_count": 8,
      "outputs": []
    },
    {
      "cell_type": "code",
      "metadata": {
        "id": "FH2XuwD-_HLz"
      },
      "source": [
        "train_x = vectorize(train_x)\n",
        "test_x = vectorize(test_x)\n",
        "train_y = np.asarray(train_y).astype('float32')\n",
        "test_y = np.asarray(test_y).astype('float32')"
      ],
      "execution_count": 9,
      "outputs": []
    },
    {
      "cell_type": "code",
      "metadata": {
        "colab": {
          "base_uri": "https://localhost:8080/",
          "height": 229
        },
        "id": "XClpo49Et8sg",
        "outputId": "713a7a82-dd13-4a84-a3fe-4bee0d718091"
      },
      "source": [
        "results = model.fit(\n",
        " train_x, train_y,\n",
        " epochs= 2,\n",
        " batch_size = 1000,\n",
        " validation_data=(test_x,test_y),\n",
        ")\n",
        "print(\"Test-Accuracy:\", np.mean(results.history[\"val_accuracy\"]))"
      ],
      "execution_count": 1,
      "outputs": [
        {
          "output_type": "error",
          "ename": "NameError",
          "evalue": "ignored",
          "traceback": [
            "\u001b[0;31m---------------------------------------------------------------------------\u001b[0m",
            "\u001b[0;31mNameError\u001b[0m                                 Traceback (most recent call last)",
            "\u001b[0;32m<ipython-input-1-826eb73ff4b4>\u001b[0m in \u001b[0;36m<module>\u001b[0;34m()\u001b[0m\n\u001b[0;32m----> 1\u001b[0;31m results = model.fit(\n\u001b[0m\u001b[1;32m      2\u001b[0m  \u001b[0mtrain_x\u001b[0m\u001b[0;34m,\u001b[0m \u001b[0mtrain_y\u001b[0m\u001b[0;34m,\u001b[0m\u001b[0;34m\u001b[0m\u001b[0;34m\u001b[0m\u001b[0m\n\u001b[1;32m      3\u001b[0m  \u001b[0mepochs\u001b[0m\u001b[0;34m=\u001b[0m \u001b[0;36m2\u001b[0m\u001b[0;34m,\u001b[0m\u001b[0;34m\u001b[0m\u001b[0;34m\u001b[0m\u001b[0m\n\u001b[1;32m      4\u001b[0m  \u001b[0mbatch_size\u001b[0m \u001b[0;34m=\u001b[0m \u001b[0;36m1000\u001b[0m\u001b[0;34m,\u001b[0m\u001b[0;34m\u001b[0m\u001b[0;34m\u001b[0m\u001b[0m\n\u001b[1;32m      5\u001b[0m  \u001b[0mvalidation_data\u001b[0m\u001b[0;34m=\u001b[0m\u001b[0;34m(\u001b[0m\u001b[0mtest_x\u001b[0m\u001b[0;34m,\u001b[0m\u001b[0mtest_y\u001b[0m\u001b[0;34m)\u001b[0m\u001b[0;34m,\u001b[0m\u001b[0;34m\u001b[0m\u001b[0;34m\u001b[0m\u001b[0m\n",
            "\u001b[0;31mNameError\u001b[0m: name 'model' is not defined"
          ]
        }
      ]
    }
  ]
}